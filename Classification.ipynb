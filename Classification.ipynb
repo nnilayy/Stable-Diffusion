{
  "cells": [
    {
      "cell_type": "markdown",
      "metadata": {
        "id": "view-in-github",
        "colab_type": "text"
      },
      "source": [
        "<a href=\"https://colab.research.google.com/github/nnilayy/Stable-Diffusion/blob/main/Classification.ipynb\" target=\"_parent\"><img src=\"https://colab.research.google.com/assets/colab-badge.svg\" alt=\"Open In Colab\"/></a>"
      ]
    },
    {
      "cell_type": "code",
      "execution_count": null,
      "metadata": {
        "id": "Faz4TOq7w8aW"
      },
      "outputs": [],
      "source": [
        "from tensorflow.keras.preprocessing.image import ImageDataGenerator\n",
        "import matplotlib.pyplot as plt \n",
        "import tensorflow as tf \n",
        "import numpy as np\n",
        "import cv2 \n",
        "import os "
      ]
    },
    {
      "cell_type": "code",
      "execution_count": null,
      "metadata": {
        "id": "J8-H0S62QVHQ"
      },
      "outputs": [],
      "source": [
        "from google.colab import drive\n",
        "drive.mount('/content/drive')"
      ]
    },
    {
      "cell_type": "markdown",
      "source": [
        "## Model Size\n"
      ],
      "metadata": {
        "id": "wmPkfImMe6pd"
      }
    },
    {
      "cell_type": "code",
      "source": [
        "IMAGE_SIZE=128"
      ],
      "metadata": {
        "id": "I5QOkbbRe89U"
      },
      "execution_count": null,
      "outputs": []
    },
    {
      "cell_type": "code",
      "execution_count": null,
      "metadata": {
        "id": "ZOy4Qb1rQvsK"
      },
      "outputs": [],
      "source": [
        "!mkdir \"/content/drive/MyDrive/dataset\""
      ]
    },
    {
      "cell_type": "code",
      "execution_count": null,
      "metadata": {
        "id": "5AORMhrHhkc7"
      },
      "outputs": [],
      "source": [
        "!unzip -q /content/drive/MyDrive/dataset.zip -d /content/drive/MyDrive/"
      ]
    },
    {
      "cell_type": "code",
      "execution_count": null,
      "metadata": {
        "id": "8isyhdy9wNzg"
      },
      "outputs": [],
      "source": [
        "train=ImageDataGenerator(rescale=1/255,\n",
        "                         rotation_range=40,\n",
        "                         brightness_range=(0,5),\n",
        "                         zoom_range=0.2,\n",
        "                         shear_range=0.2,\n",
        "                         horizontal_flip=True,\n",
        "                         vertical_flip=True,\n",
        "                         fill_mode=\"nearest\",\n",
        "                         )\n",
        "valid=ImageDataGenerator(rescale=1/255,\n",
        "                              rotation_range=40,\n",
        "                              brightness_range=(0,5),\n",
        "                              zoom_range=0.2,\n",
        "                              shear_range=0.2,\n",
        "                              horizontal_flip=True,\n",
        "                              vertical_flip=True,\n",
        "                              fill_mode=\"nearest\",)"
      ]
    },
    {
      "cell_type": "code",
      "execution_count": null,
      "metadata": {
        "id": "_5KWdWhyx8PH"
      },
      "outputs": [],
      "source": [
        "train_dataset=train.flow_from_directory('/content/drive/MyDrive/dataset_3/train',\n",
        "                                        target_size=(IMAGE_SIZE,IMAGE_SIZE),\n",
        "                                        batch_size=3,\n",
        "                                        class_mode='binary',\n",
        "                                        color_mode='grayscale',\n",
        "                                        )\n",
        "val_dataset=valid.flow_from_directory('/content/drive/MyDrive/dataset_3/validation',\n",
        "                                        target_size=(IMAGE_SIZE,IMAGE_SIZE),\n",
        "                                        batch_size=3,\n",
        "                                        class_mode='binary',\n",
        "                                        color_mode='grayscale'\n",
        "                                        )"
      ]
    },
    {
      "cell_type": "code",
      "execution_count": null,
      "metadata": {
        "id": "uOzuv6LKiGkI"
      },
      "outputs": [],
      "source": [
        "from tensorflow.keras.models import Sequential\n",
        "from tensorflow.keras.layers import Dense, Conv2D, MaxPooling2D, AveragePooling2D, Flatten, Dropout, BatchNormalization, InputLayer, Reshape\n",
        "\n",
        "model = Sequential()\n",
        "model.add(InputLayer(input_shape=(IMAGE_SIZE, IMAGE_SIZE, 1)))\n",
        "model.add(Conv2D(8, 3, padding='same', activation=\"relu\"))\n",
        "model.add(MaxPooling2D(2, padding='same'))\n",
        "model.add(Conv2D(8, 3, padding='same', activation=\"relu\"))\n",
        "model.add(MaxPooling2D(2, padding='same'))\n",
        "model.add(Conv2D(8, 3, padding='same', activation=\"relu\"))\n",
        "model.add(MaxPooling2D(2, padding='same'))\n",
        "model.add(Conv2D(4, 3, padding='same', activation=\"relu\"))\n",
        "model.add(MaxPooling2D(2, padding='same'))\n",
        "model.add(Conv2D(4, 3, padding='same', activation=\"relu\"))\n",
        "model.add(MaxPooling2D(2, padding='same'))\n",
        "model.add(MaxPooling2D(2, padding='same'))\n",
        "model.add(Flatten())\n",
        "model.add(Dense(1, activation=\"sigmoid\"))\n",
        "model.summary()\n",
        "\n",
        "\n",
        "\n",
        "\n",
        "\n",
        "\n",
        "# ---------------------------------------------------------------------------------------------------\n",
        "# ---------------------------------------------------------------------------------------------------\n",
        "# (1)Params: 32,000\n",
        "# (2)Train_Accuracy: 85.45\n",
        "# (3)Val_Accuracy: 84.44\n",
        "# model = Sequential()\n",
        "# model.add(InputLayer(input_shape=(224, 224,3)))\n",
        "# model.add(Conv2D(16, 3, padding='same', activation=\"relu\"))\n",
        "# model.add(MaxPooling2D(2, padding='same'))\n",
        "# model.add(Conv2D(16, 3, padding='same', activation=\"relu\"))\n",
        "# model.add(MaxPooling2D(2, padding='same'))\n",
        "# model.add(Conv2D(16, 3, padding='same', activation=\"relu\"))\n",
        "# model.add(MaxPooling2D(2, padding='same'))\n",
        "# model.add(MaxPooling2D(2, padding='same'))\n",
        "# model.add(MaxPooling2D(2, padding='same'))\n",
        "# model.add(Flatten())\n",
        "# model.add(Dense(32, activation=\"relu\"))\n",
        "# model.add(Dense(1, activation=\"sigmoid\"))"
      ]
    },
    {
      "cell_type": "code",
      "execution_count": null,
      "metadata": {
        "id": "PYcT2fHW77gx",
        "colab": {
          "base_uri": "https://localhost:8080/"
        },
        "outputId": "1b186085-927e-4128-f835-5199abf342cf"
      },
      "outputs": [
        {
          "output_type": "stream",
          "name": "stdout",
          "text": [
            "Epoch 1/100\n",
            "32/32 [==============================] - 3s 41ms/step - loss: 0.4306 - accuracy: 0.8298 - val_loss: 0.4427 - val_accuracy: 0.7889\n",
            "Epoch 2/100\n",
            "32/32 [==============================] - 1s 34ms/step - loss: 0.4125 - accuracy: 0.8646 - val_loss: 0.3176 - val_accuracy: 0.8667\n",
            "Epoch 3/100\n",
            "32/32 [==============================] - 1s 35ms/step - loss: 0.2520 - accuracy: 0.9062 - val_loss: 0.2332 - val_accuracy: 0.9111\n",
            "Epoch 4/100\n",
            "32/32 [==============================] - 1s 33ms/step - loss: 0.4768 - accuracy: 0.8125 - val_loss: 0.3238 - val_accuracy: 0.8889\n",
            "Epoch 5/100\n",
            "32/32 [==============================] - 2s 64ms/step - loss: 0.4227 - accuracy: 0.8125 - val_loss: 0.3569 - val_accuracy: 0.8444\n",
            "Epoch 6/100\n",
            "32/32 [==============================] - 1s 43ms/step - loss: 0.3741 - accuracy: 0.8333 - val_loss: 0.3277 - val_accuracy: 0.8778\n",
            "Epoch 7/100\n",
            "32/32 [==============================] - 1s 33ms/step - loss: 0.3317 - accuracy: 0.8723 - val_loss: 0.3140 - val_accuracy: 0.8778\n",
            "Epoch 8/100\n",
            "32/32 [==============================] - 1s 32ms/step - loss: 0.3865 - accuracy: 0.8333 - val_loss: 0.3505 - val_accuracy: 0.8333\n",
            "Epoch 9/100\n",
            "32/32 [==============================] - 1s 33ms/step - loss: 0.2879 - accuracy: 0.8854 - val_loss: 0.2864 - val_accuracy: 0.9000\n",
            "Epoch 10/100\n",
            "32/32 [==============================] - 1s 34ms/step - loss: 0.4355 - accuracy: 0.8333 - val_loss: 0.3001 - val_accuracy: 0.9222\n",
            "Epoch 11/100\n",
            "32/32 [==============================] - 1s 34ms/step - loss: 0.3661 - accuracy: 0.8438 - val_loss: 0.2688 - val_accuracy: 0.8778\n",
            "Epoch 12/100\n",
            "32/32 [==============================] - 1s 35ms/step - loss: 0.3976 - accuracy: 0.8646 - val_loss: 0.2908 - val_accuracy: 0.9000\n",
            "Epoch 13/100\n",
            "32/32 [==============================] - 1s 35ms/step - loss: 0.3351 - accuracy: 0.8646 - val_loss: 0.2716 - val_accuracy: 0.9111\n",
            "Epoch 14/100\n",
            "32/32 [==============================] - 2s 49ms/step - loss: 0.3443 - accuracy: 0.8958 - val_loss: 0.3036 - val_accuracy: 0.8778\n",
            "Epoch 15/100\n",
            "32/32 [==============================] - 1s 38ms/step - loss: 0.5431 - accuracy: 0.8021 - val_loss: 0.3840 - val_accuracy: 0.8444\n",
            "Epoch 16/100\n",
            "32/32 [==============================] - 1s 34ms/step - loss: 0.2928 - accuracy: 0.8854 - val_loss: 0.3189 - val_accuracy: 0.8778\n",
            "Epoch 17/100\n",
            "32/32 [==============================] - 1s 35ms/step - loss: 0.3339 - accuracy: 0.7979 - val_loss: 0.3098 - val_accuracy: 0.8667\n",
            "Epoch 18/100\n",
            "32/32 [==============================] - 1s 33ms/step - loss: 0.2310 - accuracy: 0.9167 - val_loss: 0.3355 - val_accuracy: 0.8667\n",
            "Epoch 19/100\n",
            "32/32 [==============================] - 1s 34ms/step - loss: 0.2937 - accuracy: 0.8936 - val_loss: 0.3762 - val_accuracy: 0.8667\n",
            "Epoch 20/100\n",
            "32/32 [==============================] - 1s 35ms/step - loss: 0.3130 - accuracy: 0.8646 - val_loss: 0.2410 - val_accuracy: 0.9111\n",
            "Epoch 21/100\n",
            "32/32 [==============================] - 1s 34ms/step - loss: 0.3821 - accuracy: 0.8750 - val_loss: 0.3278 - val_accuracy: 0.8667\n",
            "Epoch 22/100\n",
            "32/32 [==============================] - 1s 46ms/step - loss: 0.4052 - accuracy: 0.8229 - val_loss: 0.2945 - val_accuracy: 0.8778\n",
            "Epoch 23/100\n",
            "32/32 [==============================] - 4s 135ms/step - loss: 0.4127 - accuracy: 0.8438 - val_loss: 0.2675 - val_accuracy: 0.8889\n",
            "Epoch 24/100\n",
            "32/32 [==============================] - 2s 54ms/step - loss: 0.3667 - accuracy: 0.8333 - val_loss: 0.3610 - val_accuracy: 0.8444\n",
            "Epoch 25/100\n",
            "32/32 [==============================] - 1s 34ms/step - loss: 0.3493 - accuracy: 0.8854 - val_loss: 0.3522 - val_accuracy: 0.8333\n",
            "Epoch 26/100\n",
            "32/32 [==============================] - 1s 32ms/step - loss: 0.3106 - accuracy: 0.8646 - val_loss: 0.2887 - val_accuracy: 0.8889\n",
            "Epoch 27/100\n",
            "32/32 [==============================] - 1s 32ms/step - loss: 0.2993 - accuracy: 0.8438 - val_loss: 0.2576 - val_accuracy: 0.8778\n",
            "Epoch 28/100\n",
            "32/32 [==============================] - 1s 33ms/step - loss: 0.3413 - accuracy: 0.8438 - val_loss: 0.3666 - val_accuracy: 0.8778\n",
            "Epoch 29/100\n",
            "32/32 [==============================] - 1s 39ms/step - loss: 0.3622 - accuracy: 0.8542 - val_loss: 0.2923 - val_accuracy: 0.8889\n",
            "Epoch 30/100\n",
            "32/32 [==============================] - 1s 33ms/step - loss: 0.4265 - accuracy: 0.8229 - val_loss: 0.3301 - val_accuracy: 0.8222\n",
            "Epoch 31/100\n",
            "32/32 [==============================] - 2s 59ms/step - loss: 0.3537 - accuracy: 0.8333 - val_loss: 0.2427 - val_accuracy: 0.9222\n",
            "Epoch 32/100\n",
            "32/32 [==============================] - 2s 67ms/step - loss: 0.3456 - accuracy: 0.8511 - val_loss: 0.3240 - val_accuracy: 0.8667\n",
            "Epoch 33/100\n",
            "32/32 [==============================] - 1s 33ms/step - loss: 0.1976 - accuracy: 0.9271 - val_loss: 0.3012 - val_accuracy: 0.8889\n",
            "Epoch 34/100\n",
            "32/32 [==============================] - 1s 33ms/step - loss: 0.2978 - accuracy: 0.8936 - val_loss: 0.3019 - val_accuracy: 0.8889\n",
            "Epoch 35/100\n",
            "32/32 [==============================] - 1s 32ms/step - loss: 0.2934 - accuracy: 0.8958 - val_loss: 0.3451 - val_accuracy: 0.8556\n",
            "Epoch 36/100\n",
            "32/32 [==============================] - 1s 34ms/step - loss: 0.3859 - accuracy: 0.8542 - val_loss: 0.3345 - val_accuracy: 0.8778\n",
            "Epoch 37/100\n",
            "32/32 [==============================] - 1s 34ms/step - loss: 0.4958 - accuracy: 0.7660 - val_loss: 0.3293 - val_accuracy: 0.8667\n",
            "Epoch 38/100\n",
            "32/32 [==============================] - 1s 35ms/step - loss: 0.4469 - accuracy: 0.8298 - val_loss: 0.3254 - val_accuracy: 0.8444\n",
            "Epoch 39/100\n",
            "32/32 [==============================] - 1s 33ms/step - loss: 0.2956 - accuracy: 0.9149 - val_loss: 0.3573 - val_accuracy: 0.8667\n",
            "Epoch 40/100\n",
            "32/32 [==============================] - 1s 33ms/step - loss: 0.3293 - accuracy: 0.8511 - val_loss: 0.2271 - val_accuracy: 0.9333\n",
            "Epoch 41/100\n",
            "32/32 [==============================] - 2s 65ms/step - loss: 0.3157 - accuracy: 0.8854 - val_loss: 0.3050 - val_accuracy: 0.8667\n",
            "Epoch 42/100\n",
            "32/32 [==============================] - 1s 46ms/step - loss: 0.2958 - accuracy: 0.8958 - val_loss: 0.3220 - val_accuracy: 0.8889\n",
            "Epoch 43/100\n",
            "32/32 [==============================] - 1s 33ms/step - loss: 0.2651 - accuracy: 0.9043 - val_loss: 0.3786 - val_accuracy: 0.8778\n",
            "Epoch 44/100\n",
            "32/32 [==============================] - 1s 32ms/step - loss: 0.3025 - accuracy: 0.8936 - val_loss: 0.3303 - val_accuracy: 0.8778\n",
            "Epoch 45/100\n",
            "32/32 [==============================] - 1s 35ms/step - loss: 0.4282 - accuracy: 0.8723 - val_loss: 0.3086 - val_accuracy: 0.8778\n",
            "Epoch 46/100\n",
            "32/32 [==============================] - 1s 33ms/step - loss: 0.3931 - accuracy: 0.8542 - val_loss: 0.2849 - val_accuracy: 0.9000\n",
            "Epoch 47/100\n",
            "32/32 [==============================] - 1s 35ms/step - loss: 0.3066 - accuracy: 0.8438 - val_loss: 0.3160 - val_accuracy: 0.8667\n",
            "Epoch 48/100\n",
            "32/32 [==============================] - 1s 34ms/step - loss: 0.2628 - accuracy: 0.9167 - val_loss: 0.2758 - val_accuracy: 0.9000\n",
            "Epoch 49/100\n",
            "32/32 [==============================] - 1s 33ms/step - loss: 0.3305 - accuracy: 0.8958 - val_loss: 0.3004 - val_accuracy: 0.8556\n",
            "Epoch 50/100\n",
            "32/32 [==============================] - 1s 38ms/step - loss: 0.3497 - accuracy: 0.8511 - val_loss: 0.3129 - val_accuracy: 0.8556\n",
            "Epoch 51/100\n",
            "32/32 [==============================] - 2s 48ms/step - loss: 0.4037 - accuracy: 0.8191 - val_loss: 0.3841 - val_accuracy: 0.8333\n",
            "Epoch 52/100\n",
            "32/32 [==============================] - 1s 32ms/step - loss: 0.2808 - accuracy: 0.8750 - val_loss: 0.4341 - val_accuracy: 0.8333\n",
            "Epoch 53/100\n",
            "32/32 [==============================] - 1s 34ms/step - loss: 0.3622 - accuracy: 0.8438 - val_loss: 0.2765 - val_accuracy: 0.9000\n",
            "Epoch 54/100\n",
            "32/32 [==============================] - 1s 34ms/step - loss: 0.2528 - accuracy: 0.9167 - val_loss: 0.3123 - val_accuracy: 0.8889\n",
            "Epoch 55/100\n",
            "32/32 [==============================] - 1s 33ms/step - loss: 0.3675 - accuracy: 0.8511 - val_loss: 0.2374 - val_accuracy: 0.8889\n",
            "Epoch 56/100\n",
            "32/32 [==============================] - 1s 33ms/step - loss: 0.2965 - accuracy: 0.8750 - val_loss: 0.3396 - val_accuracy: 0.8667\n",
            "Epoch 57/100\n",
            "32/32 [==============================] - 1s 34ms/step - loss: 0.3558 - accuracy: 0.8750 - val_loss: 0.2923 - val_accuracy: 0.9000\n",
            "Epoch 58/100\n",
            "32/32 [==============================] - 1s 33ms/step - loss: 0.2431 - accuracy: 0.8958 - val_loss: 0.3003 - val_accuracy: 0.8889\n",
            "Epoch 59/100\n",
            "32/32 [==============================] - 1s 33ms/step - loss: 0.2819 - accuracy: 0.8958 - val_loss: 0.2696 - val_accuracy: 0.9111\n",
            "Epoch 60/100\n",
            "32/32 [==============================] - 1s 45ms/step - loss: 0.2936 - accuracy: 0.9167 - val_loss: 0.2543 - val_accuracy: 0.8889\n",
            "Epoch 61/100\n",
            "32/32 [==============================] - 2s 61ms/step - loss: 0.4984 - accuracy: 0.8438 - val_loss: 0.3339 - val_accuracy: 0.8778\n",
            "Epoch 62/100\n",
            "32/32 [==============================] - 1s 32ms/step - loss: 0.2871 - accuracy: 0.8830 - val_loss: 0.3679 - val_accuracy: 0.8667\n",
            "Epoch 63/100\n",
            "32/32 [==============================] - 1s 33ms/step - loss: 0.3281 - accuracy: 0.8854 - val_loss: 0.3167 - val_accuracy: 0.9000\n",
            "Epoch 64/100\n",
            "32/32 [==============================] - 1s 34ms/step - loss: 0.3395 - accuracy: 0.8646 - val_loss: 0.3047 - val_accuracy: 0.9000\n",
            "Epoch 65/100\n",
            "32/32 [==============================] - 1s 34ms/step - loss: 0.3191 - accuracy: 0.8750 - val_loss: 0.2317 - val_accuracy: 0.9222\n",
            "Epoch 66/100\n",
            "32/32 [==============================] - 1s 33ms/step - loss: 0.4190 - accuracy: 0.8958 - val_loss: 0.2808 - val_accuracy: 0.9000\n",
            "Epoch 67/100\n",
            "32/32 [==============================] - 1s 40ms/step - loss: 0.3133 - accuracy: 0.8958 - val_loss: 0.4655 - val_accuracy: 0.8000\n",
            "Epoch 68/100\n",
            "32/32 [==============================] - 1s 34ms/step - loss: 0.4333 - accuracy: 0.8191 - val_loss: 0.2634 - val_accuracy: 0.9000\n",
            "Epoch 69/100\n",
            "32/32 [==============================] - 1s 45ms/step - loss: 0.3006 - accuracy: 0.9062 - val_loss: 0.2821 - val_accuracy: 0.8889\n",
            "Epoch 70/100\n",
            "32/32 [==============================] - 1s 41ms/step - loss: 0.2757 - accuracy: 0.9062 - val_loss: 0.2846 - val_accuracy: 0.8889\n",
            "Epoch 71/100\n",
            "32/32 [==============================] - 1s 33ms/step - loss: 0.3351 - accuracy: 0.8854 - val_loss: 0.3014 - val_accuracy: 0.8778\n",
            "Epoch 72/100\n",
            "32/32 [==============================] - 1s 33ms/step - loss: 0.3342 - accuracy: 0.8617 - val_loss: 0.2863 - val_accuracy: 0.8778\n",
            "Epoch 73/100\n",
            "32/32 [==============================] - 1s 33ms/step - loss: 0.2677 - accuracy: 0.8936 - val_loss: 0.3223 - val_accuracy: 0.8778\n",
            "Epoch 74/100\n",
            "32/32 [==============================] - 1s 32ms/step - loss: 0.3805 - accuracy: 0.8438 - val_loss: 0.3068 - val_accuracy: 0.8778\n",
            "Epoch 75/100\n",
            "32/32 [==============================] - 1s 33ms/step - loss: 0.3121 - accuracy: 0.8958 - val_loss: 0.2987 - val_accuracy: 0.8889\n",
            "Epoch 76/100\n",
            "32/32 [==============================] - 1s 34ms/step - loss: 0.4503 - accuracy: 0.8646 - val_loss: 0.2484 - val_accuracy: 0.9111\n",
            "Epoch 77/100\n",
            "32/32 [==============================] - 1s 44ms/step - loss: 0.3213 - accuracy: 0.8404 - val_loss: 0.2401 - val_accuracy: 0.9111\n",
            "Epoch 78/100\n",
            "32/32 [==============================] - 2s 60ms/step - loss: 0.2459 - accuracy: 0.9062 - val_loss: 0.2282 - val_accuracy: 0.9111\n",
            "Epoch 79/100\n",
            "32/32 [==============================] - 1s 45ms/step - loss: 0.3928 - accuracy: 0.8750 - val_loss: 0.3357 - val_accuracy: 0.8556\n",
            "Epoch 80/100\n",
            "32/32 [==============================] - 1s 33ms/step - loss: 0.3763 - accuracy: 0.8438 - val_loss: 0.3015 - val_accuracy: 0.8778\n",
            "Epoch 81/100\n",
            "32/32 [==============================] - 1s 33ms/step - loss: 0.2386 - accuracy: 0.9271 - val_loss: 0.2973 - val_accuracy: 0.9000\n",
            "Epoch 82/100\n",
            "32/32 [==============================] - 1s 33ms/step - loss: 0.1634 - accuracy: 0.9479 - val_loss: 0.3158 - val_accuracy: 0.8778\n",
            "Epoch 83/100\n",
            "32/32 [==============================] - 1s 33ms/step - loss: 0.2630 - accuracy: 0.8936 - val_loss: 0.2989 - val_accuracy: 0.8889\n",
            "Epoch 84/100\n",
            "32/32 [==============================] - 1s 33ms/step - loss: 0.3048 - accuracy: 0.8333 - val_loss: 0.3448 - val_accuracy: 0.8556\n",
            "Epoch 85/100\n",
            "32/32 [==============================] - 1s 34ms/step - loss: 0.3244 - accuracy: 0.8750 - val_loss: 0.2946 - val_accuracy: 0.8778\n",
            "Epoch 86/100\n",
            "32/32 [==============================] - 1s 32ms/step - loss: 0.3212 - accuracy: 0.8723 - val_loss: 0.2885 - val_accuracy: 0.9000\n",
            "Epoch 87/100\n",
            "32/32 [==============================] - 1s 34ms/step - loss: 0.3165 - accuracy: 0.8854 - val_loss: 0.3302 - val_accuracy: 0.8556\n",
            "Epoch 88/100\n",
            "32/32 [==============================] - 2s 59ms/step - loss: 0.3038 - accuracy: 0.8958 - val_loss: 0.2939 - val_accuracy: 0.8778\n",
            "Epoch 89/100\n",
            "32/32 [==============================] - 1s 41ms/step - loss: 0.3669 - accuracy: 0.8191 - val_loss: 0.3873 - val_accuracy: 0.8222\n",
            "Epoch 90/100\n",
            "32/32 [==============================] - 1s 34ms/step - loss: 0.2948 - accuracy: 0.9062 - val_loss: 0.3043 - val_accuracy: 0.8889\n",
            "Epoch 91/100\n",
            "32/32 [==============================] - 1s 33ms/step - loss: 0.3398 - accuracy: 0.8854 - val_loss: 0.2968 - val_accuracy: 0.8667\n",
            "Epoch 92/100\n",
            "32/32 [==============================] - 1s 33ms/step - loss: 0.4114 - accuracy: 0.8511 - val_loss: 0.2762 - val_accuracy: 0.9111\n",
            "Epoch 93/100\n",
            "32/32 [==============================] - 1s 33ms/step - loss: 0.3022 - accuracy: 0.8750 - val_loss: 0.3086 - val_accuracy: 0.8778\n",
            "Epoch 94/100\n",
            "32/32 [==============================] - 1s 33ms/step - loss: 0.3071 - accuracy: 0.8617 - val_loss: 0.2833 - val_accuracy: 0.8778\n",
            "Epoch 95/100\n",
            "32/32 [==============================] - 1s 33ms/step - loss: 0.3431 - accuracy: 0.8646 - val_loss: 0.2697 - val_accuracy: 0.9111\n",
            "Epoch 96/100\n",
            "32/32 [==============================] - 1s 34ms/step - loss: 0.3062 - accuracy: 0.8958 - val_loss: 0.2264 - val_accuracy: 0.9111\n",
            "Epoch 97/100\n",
            "32/32 [==============================] - 1s 33ms/step - loss: 0.3812 - accuracy: 0.8750 - val_loss: 0.3065 - val_accuracy: 0.8778\n",
            "Epoch 98/100\n",
            "32/32 [==============================] - 2s 61ms/step - loss: 0.4329 - accuracy: 0.8542 - val_loss: 0.3352 - val_accuracy: 0.8667\n",
            "Epoch 99/100\n",
            "32/32 [==============================] - 1s 41ms/step - loss: 0.4296 - accuracy: 0.8191 - val_loss: 0.3415 - val_accuracy: 0.8333\n",
            "Epoch 100/100\n",
            "32/32 [==============================] - 1s 34ms/step - loss: 0.4622 - accuracy: 0.8333 - val_loss: 0.2760 - val_accuracy: 0.9111\n"
          ]
        }
      ],
      "source": [
        "model.compile(loss=\"binary_crossentropy\", \n",
        "              optimizer=tf.keras.optimizers.RMSprop(learning_rate=1e-3), \n",
        "              metrics=[\"accuracy\"])\n",
        "\n",
        "history=model.fit(train_dataset, \n",
        "                  steps_per_epoch=32, \n",
        "                  epochs=100, \n",
        "                  validation_data=val_dataset)"
      ]
    },
    {
      "cell_type": "code",
      "source": [
        "from sklearn.metrics import classification_report, confusion_matrix\n",
        "Y_pred = model.predict_generator(val_dataset, 101)\n",
        "y_pred = np.argmax(Y_pred, axis=1)\n",
        "print('Confusion Matrix')\n",
        "print(confusion_matrix(val_dataset.classes, y_pred))\n",
        "print('Classification Report')\n",
        "target_names = ['Cracked', 'Not Cracked']\n",
        "print(classification_report(val_dataset.classes, y_pred, target_names=target_names))"
      ],
      "metadata": {
        "id": "gtdyPWw6wCJY"
      },
      "execution_count": null,
      "outputs": []
    },
    {
      "cell_type": "code",
      "execution_count": null,
      "metadata": {
        "id": "1zENh4DQzNMb"
      },
      "outputs": [],
      "source": [
        "model.save(\"/content/model_128.h5\")"
      ]
    },
    {
      "cell_type": "code",
      "execution_count": null,
      "metadata": {
        "id": "uNewr2cLj5oq"
      },
      "outputs": [],
      "source": [
        "file=\"/content/images.jpg\"\n",
        "image=cv2.imread(file)\n",
        "image=cv2.resize(image,(224,224))\n",
        "image=np.expand_dims(image,0)\n",
        "prediction=int(model.predict(image))\n",
        "\n",
        "if prediction == 0:\n",
        "  print('Cracked')\n",
        "\n",
        "elif prediction==1:\n",
        "  print('Not Cracked')"
      ]
    },
    {
      "cell_type": "code",
      "execution_count": null,
      "metadata": {
        "id": "Rj6t3crLl_Y0"
      },
      "outputs": [],
      "source": [
        "import os\n",
        "def get_file_size(file_path):\n",
        "  size=os.path.getsize(file_path)\n",
        "  return size\n",
        "def convert_bytes(size,unit=None):\n",
        "  if unit==\"KB\":\n",
        "    return print(\"File size: \"+str(round(size/1024,3))+\" Kilobytes\")\n",
        "  elif unit==\"MB\":\n",
        "    return print(\"File size: \"+str(round(size/(1024*1024),3))+\" Megabytes\")\n",
        "  else:\n",
        "    return print(\"File size: \"+str(size)+\"bytes\")"
      ]
    },
    {
      "cell_type": "code",
      "execution_count": null,
      "metadata": {
        "id": "m52QuAlPl_Y3",
        "colab": {
          "base_uri": "https://localhost:8080/"
        },
        "outputId": "ce253935-ad0d-4b81-fa91-2b08d6a12a03"
      },
      "outputs": [
        {
          "output_type": "stream",
          "name": "stdout",
          "text": [
            "File size: 0.061 Megabytes\n"
          ]
        }
      ],
      "source": [
        "# Model Size Before Model Quantization\n",
        "model=\"/content/model_128.h5\"\n",
        "convert_bytes(get_file_size(model),\"MB\")"
      ]
    },
    {
      "cell_type": "code",
      "source": [
        "import glob\n",
        "import cv2\n",
        "import numpy as array \n",
        "files=glob.glob('/content/drive/MyDrive/dataset_3/train/Cracked/*')\n",
        "images=[]\n",
        "for file in files:\n",
        "  image=cv2.imread(file, cv2.IMREAD_GRAYSCALE)\n",
        "  image=cv2.resize(image,(256,256))\n",
        "  image=image/255\n",
        "  image=np.array(image,dtype=np.float32)\n",
        "  images.append(image)"
      ],
      "metadata": {
        "id": "1yX0NVa1Mt5_"
      },
      "execution_count": null,
      "outputs": []
    },
    {
      "cell_type": "code",
      "source": [
        "images=np.array(images)\n",
        "# images=np.squeeze(images,-1)\n",
        "images.shape"
      ],
      "metadata": {
        "id": "uqNtH6TzNJ_Z"
      },
      "execution_count": null,
      "outputs": []
    },
    {
      "cell_type": "code",
      "source": [
        "def dataset_generator():\n",
        "   for i in range(100):\n",
        "      input_image = tf.cast(images[i], tf.float32)\n",
        "      input_image = tf.reshape(input_image, [1,256,256,1])\n",
        "      yield ([input_image])"
      ],
      "metadata": {
        "id": "OfpCeOl2N8T8"
      },
      "execution_count": null,
      "outputs": []
    },
    {
      "cell_type": "code",
      "execution_count": null,
      "metadata": {
        "id": "BCvfDqxtmtD0"
      },
      "outputs": [],
      "source": [
        "import tensorflow as tf\n",
        "model=\"/content/model_128.h5\"\n",
        "model=tf.keras.models.load_model(model)\n",
        "converter = tf.lite.TFLiteConverter.from_keras_model(model)\n",
        "converter.optimizations=[tf.lite.Optimize.DEFAULT]\n",
        "converter.target_spec.supported_ops = [tf.lite.OpsSet.TFLITE_BUILTINS_INT8]\n",
        "converter.representative_dataset=dataset_generator\n",
        "tflite_model_name=\"model.tflite\"\n",
        "tflite_model = converter.convert()\n",
        "open(tflite_model_name,\"wb\").write(tflite_model)"
      ]
    },
    {
      "cell_type": "code",
      "execution_count": null,
      "metadata": {
        "id": "4sEBDJwxmtD0"
      },
      "outputs": [],
      "source": [
        "# Model Size After Model Quantization\n",
        "tflite_model=\"/content/model.tflite\"\n",
        "convert_bytes(get_file_size(tflite_model),\"KB\")"
      ]
    },
    {
      "cell_type": "code",
      "source": [
        "import binascii\n",
        "def convert_to_c_array(bytes) -> str:\n",
        "  hexstr = binascii.hexlify(bytes).decode(\"UTF-8\")\n",
        "  hexstr = hexstr.upper()\n",
        "  array = [\"0x\" + hexstr[i:i + 2] for i in range(0, len(hexstr), 2)]\n",
        "  array = [array[i:i+10] for i in range(0, len(array), 10)]\n",
        "  return \",\\n  \".join([\", \".join(e) for e in array])\n",
        "\n",
        "tflite_binary = open('model.tflite', 'rb').read()\n",
        "ascii_bytes = convert_to_c_array(tflite_binary)\n",
        "header_file = \"const unsigned char model_tflite[] = {\\n  \" + ascii_bytes + \"\\n};\\nunsigned int model_tflite_len = \" + str(len(tflite_binary)) + \";\"\n",
        "open(\"model_128.h\", \"w\").write(header_file)\n",
        "convert_bytes(get_file_size('/content/model_128.h'),\"KB\")"
      ],
      "metadata": {
        "id": "5l2VaKpWxfvE",
        "colab": {
          "base_uri": "https://localhost:8080/"
        },
        "outputId": "8f2c79f8-75d3-4a41-9759-cba3449ff913"
      },
      "execution_count": null,
      "outputs": [
        {
          "output_type": "stream",
          "name": "stdout",
          "text": [
            "File size: 55.537 Kilobytes\n"
          ]
        }
      ]
    },
    {
      "cell_type": "code",
      "source": [
        "# train_data=train_dataset[0]\n",
        "# X_train=train_data[0]\n",
        "# y_train=train_data[1]\n",
        "\n",
        "# test_data=val_dataset[0]\n",
        "# X_test=test_data[0]\n",
        "# y_test=test_data[1]\n",
        "\n",
        "# print(X_train.shape,X_test.shape,y_train.shape,y_test.shape)\n",
        "# # print(y_test)"
      ],
      "metadata": {
        "id": "xPCDgWWCGppa"
      },
      "execution_count": null,
      "outputs": []
    },
    {
      "cell_type": "code",
      "source": [
        "for layer in model.layers:\n",
        "  print(layer.get_config()['name'])"
      ],
      "metadata": {
        "id": "PeWBgQDNBTzS"
      },
      "execution_count": null,
      "outputs": []
    },
    {
      "cell_type": "code",
      "execution_count": null,
      "metadata": {
        "id": "1muAoUm8lSXL"
      },
      "outputs": [],
      "source": [
        "# Convert the model to the TensorFlow Lite format without quantization\n",
        "converter = tf.lite.TFLiteConverter.from_saved_model(MODEL_TF)\n",
        "model_no_quant_tflite = converter.convert()\n",
        "\n",
        "# Save the model to disk\n",
        "open(MODEL_NO_QUANT_TFLITE, \"wb\").write(model_no_quant_tflite)\n",
        "\n",
        "# Convert the model to the TensorFlow Lite format with quantization\n",
        "def representative_dataset():\n",
        "  for i in range(500):\n",
        "    yield([x_train[i].reshape(1, 1)])\n",
        "# Set the optimization flag.\n",
        "converter.optimizations = [tf.lite.Optimize.DEFAULT]\n",
        "# Enforce integer only quantization\n",
        "converter.target_spec.supported_ops = [tf.lite.OpsSet.TFLITE_BUILTINS_INT8]\n",
        "# Provide a representative dataset to ensure we quantize correctly.\n",
        "converter.representative_dataset = representative_dataset\n",
        "model_tflite = converter.convert()\n",
        "\n",
        "# Save the model to disk\n",
        "open(MODEL_TFLITE, \"wb\").write(model_tflite)"
      ]
    }
  ],
  "metadata": {
    "accelerator": "GPU",
    "colab": {
      "provenance": [],
      "authorship_tag": "ABX9TyM89YkOBwTzsU5y3sP45Pd9",
      "include_colab_link": true
    },
    "gpuClass": "standard",
    "kernelspec": {
      "display_name": "Python 3",
      "name": "python3"
    },
    "language_info": {
      "name": "python"
    }
  },
  "nbformat": 4,
  "nbformat_minor": 0
}