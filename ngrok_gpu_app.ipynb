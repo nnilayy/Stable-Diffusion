{
  "nbformat": 4,
  "nbformat_minor": 0,
  "metadata": {
    "colab": {
      "provenance": [],
      "collapsed_sections": [
        "WCFmFjg3_k8y",
        "ghS-vplu_ebM",
        "tiy2kYB89zsp",
        "Knnuo5HaDRxY",
        "A7PH8pYR_A4V",
        "-DZd9ZhE-7t-",
        "rOLAQneRZv0c",
        "NzSsNJP79VdM"
      ],
      "gpuType": "T4",
      "authorship_tag": "ABX9TyOEzz16noWGtDgMwQv/xuNd",
      "include_colab_link": true
    },
    "kernelspec": {
      "name": "python3",
      "display_name": "Python 3"
    },
    "language_info": {
      "name": "python"
    }
  },
  "cells": [
    {
      "cell_type": "markdown",
      "metadata": {
        "id": "view-in-github",
        "colab_type": "text"
      },
      "source": [
        "<a href=\"https://colab.research.google.com/github/nnilayy/Stable-Diffusion/blob/main/ngrok_gpu_app.ipynb\" target=\"_parent\"><img src=\"https://colab.research.google.com/assets/colab-badge.svg\" alt=\"Open In Colab\"/></a>"
      ]
    },
    {
      "cell_type": "markdown",
      "source": [
        "## Importing Libraries"
      ],
      "metadata": {
        "id": "WCFmFjg3_k8y"
      }
    },
    {
      "cell_type": "code",
      "source": [
        "!pip install transformers scipy ftfy accelerate\n",
        "!pip install pyngrok\n",
        "!pip install diffusers"
      ],
      "metadata": {
        "colab": {
          "base_uri": "https://localhost:8080/"
        },
        "id": "ddDdPnp31jUD",
        "outputId": "1e0eaa4f-1264-4650-a7b6-3606203c4ffd"
      },
      "execution_count": null,
      "outputs": [
        {
          "output_type": "stream",
          "name": "stdout",
          "text": [
            "Collecting transformers\n",
            "  Downloading transformers-4.30.2-py3-none-any.whl (7.2 MB)\n",
            "\u001b[?25l     \u001b[90m━━━━━━━━━━━━━━━━━━━━━━━━━━━━━━━━━━━━━━━━\u001b[0m \u001b[32m0.0/7.2 MB\u001b[0m \u001b[31m?\u001b[0m eta \u001b[36m-:--:--\u001b[0m\r\u001b[2K     \u001b[91m━━━━━━━━━━━━━━━━━━━━━━━━━━\u001b[0m\u001b[91m╸\u001b[0m\u001b[90m━━━━━━━━━━━━━\u001b[0m \u001b[32m4.8/7.2 MB\u001b[0m \u001b[31m146.0 MB/s\u001b[0m eta \u001b[36m0:00:01\u001b[0m\r\u001b[2K     \u001b[91m━━━━━━━━━━━━━━━━━━━━━━━━━━━━━━━━━━━━━━━\u001b[0m\u001b[91m╸\u001b[0m \u001b[32m7.2/7.2 MB\u001b[0m \u001b[31m123.3 MB/s\u001b[0m eta \u001b[36m0:00:01\u001b[0m\r\u001b[2K     \u001b[90m━━━━━━━━━━━━━━━━━━━━━━━━━━━━━━━━━━━━━━━━\u001b[0m \u001b[32m7.2/7.2 MB\u001b[0m \u001b[31m79.4 MB/s\u001b[0m eta \u001b[36m0:00:00\u001b[0m\n",
            "\u001b[?25hRequirement already satisfied: scipy in /usr/local/lib/python3.10/dist-packages (1.10.1)\n",
            "Collecting ftfy\n",
            "  Downloading ftfy-6.1.1-py3-none-any.whl (53 kB)\n",
            "\u001b[2K     \u001b[90m━━━━━━━━━━━━━━━━━━━━━━━━━━━━━━━━━━━━━━━━\u001b[0m \u001b[32m53.1/53.1 kB\u001b[0m \u001b[31m7.8 MB/s\u001b[0m eta \u001b[36m0:00:00\u001b[0m\n",
            "\u001b[?25hCollecting accelerate\n",
            "  Downloading accelerate-0.20.3-py3-none-any.whl (227 kB)\n",
            "\u001b[2K     \u001b[90m━━━━━━━━━━━━━━━━━━━━━━━━━━━━━━━━━━━━━━\u001b[0m \u001b[32m227.6/227.6 kB\u001b[0m \u001b[31m16.7 MB/s\u001b[0m eta \u001b[36m0:00:00\u001b[0m\n",
            "\u001b[?25hRequirement already satisfied: filelock in /usr/local/lib/python3.10/dist-packages (from transformers) (3.12.2)\n",
            "Collecting huggingface-hub<1.0,>=0.14.1 (from transformers)\n",
            "  Downloading huggingface_hub-0.16.4-py3-none-any.whl (268 kB)\n",
            "\u001b[2K     \u001b[90m━━━━━━━━━━━━━━━━━━━━━━━━━━━━━━━━━━━━━━\u001b[0m \u001b[32m268.8/268.8 kB\u001b[0m \u001b[31m29.2 MB/s\u001b[0m eta \u001b[36m0:00:00\u001b[0m\n",
            "\u001b[?25hRequirement already satisfied: numpy>=1.17 in /usr/local/lib/python3.10/dist-packages (from transformers) (1.22.4)\n",
            "Requirement already satisfied: packaging>=20.0 in /usr/local/lib/python3.10/dist-packages (from transformers) (23.1)\n",
            "Requirement already satisfied: pyyaml>=5.1 in /usr/local/lib/python3.10/dist-packages (from transformers) (6.0)\n",
            "Requirement already satisfied: regex!=2019.12.17 in /usr/local/lib/python3.10/dist-packages (from transformers) (2022.10.31)\n",
            "Requirement already satisfied: requests in /usr/local/lib/python3.10/dist-packages (from transformers) (2.27.1)\n",
            "Collecting tokenizers!=0.11.3,<0.14,>=0.11.1 (from transformers)\n",
            "  Downloading tokenizers-0.13.3-cp310-cp310-manylinux_2_17_x86_64.manylinux2014_x86_64.whl (7.8 MB)\n",
            "\u001b[2K     \u001b[90m━━━━━━━━━━━━━━━━━━━━━━━━━━━━━━━━━━━━━━━━\u001b[0m \u001b[32m7.8/7.8 MB\u001b[0m \u001b[31m103.4 MB/s\u001b[0m eta \u001b[36m0:00:00\u001b[0m\n",
            "\u001b[?25hCollecting safetensors>=0.3.1 (from transformers)\n",
            "  Downloading safetensors-0.3.1-cp310-cp310-manylinux_2_17_x86_64.manylinux2014_x86_64.whl (1.3 MB)\n",
            "\u001b[2K     \u001b[90m━━━━━━━━━━━━━━━━━━━━━━━━━━━━━━━━━━━━━━━━\u001b[0m \u001b[32m1.3/1.3 MB\u001b[0m \u001b[31m68.9 MB/s\u001b[0m eta \u001b[36m0:00:00\u001b[0m\n",
            "\u001b[?25hRequirement already satisfied: tqdm>=4.27 in /usr/local/lib/python3.10/dist-packages (from transformers) (4.65.0)\n",
            "Requirement already satisfied: wcwidth>=0.2.5 in /usr/local/lib/python3.10/dist-packages (from ftfy) (0.2.6)\n",
            "Requirement already satisfied: psutil in /usr/local/lib/python3.10/dist-packages (from accelerate) (5.9.5)\n",
            "Requirement already satisfied: torch>=1.6.0 in /usr/local/lib/python3.10/dist-packages (from accelerate) (2.0.1+cu118)\n",
            "Requirement already satisfied: fsspec in /usr/local/lib/python3.10/dist-packages (from huggingface-hub<1.0,>=0.14.1->transformers) (2023.6.0)\n",
            "Requirement already satisfied: typing-extensions>=3.7.4.3 in /usr/local/lib/python3.10/dist-packages (from huggingface-hub<1.0,>=0.14.1->transformers) (4.7.1)\n",
            "Requirement already satisfied: sympy in /usr/local/lib/python3.10/dist-packages (from torch>=1.6.0->accelerate) (1.11.1)\n",
            "Requirement already satisfied: networkx in /usr/local/lib/python3.10/dist-packages (from torch>=1.6.0->accelerate) (3.1)\n",
            "Requirement already satisfied: jinja2 in /usr/local/lib/python3.10/dist-packages (from torch>=1.6.0->accelerate) (3.1.2)\n",
            "Requirement already satisfied: triton==2.0.0 in /usr/local/lib/python3.10/dist-packages (from torch>=1.6.0->accelerate) (2.0.0)\n",
            "Requirement already satisfied: cmake in /usr/local/lib/python3.10/dist-packages (from triton==2.0.0->torch>=1.6.0->accelerate) (3.25.2)\n",
            "Requirement already satisfied: lit in /usr/local/lib/python3.10/dist-packages (from triton==2.0.0->torch>=1.6.0->accelerate) (16.0.6)\n",
            "Requirement already satisfied: urllib3<1.27,>=1.21.1 in /usr/local/lib/python3.10/dist-packages (from requests->transformers) (1.26.16)\n",
            "Requirement already satisfied: certifi>=2017.4.17 in /usr/local/lib/python3.10/dist-packages (from requests->transformers) (2023.5.7)\n",
            "Requirement already satisfied: charset-normalizer~=2.0.0 in /usr/local/lib/python3.10/dist-packages (from requests->transformers) (2.0.12)\n",
            "Requirement already satisfied: idna<4,>=2.5 in /usr/local/lib/python3.10/dist-packages (from requests->transformers) (3.4)\n",
            "Requirement already satisfied: MarkupSafe>=2.0 in /usr/local/lib/python3.10/dist-packages (from jinja2->torch>=1.6.0->accelerate) (2.1.3)\n",
            "Requirement already satisfied: mpmath>=0.19 in /usr/local/lib/python3.10/dist-packages (from sympy->torch>=1.6.0->accelerate) (1.3.0)\n",
            "Installing collected packages: tokenizers, safetensors, ftfy, huggingface-hub, transformers, accelerate\n",
            "Successfully installed accelerate-0.20.3 ftfy-6.1.1 huggingface-hub-0.16.4 safetensors-0.3.1 tokenizers-0.13.3 transformers-4.30.2\n",
            "Collecting pyngrok\n",
            "  Downloading pyngrok-6.0.0.tar.gz (681 kB)\n",
            "\u001b[2K     \u001b[90m━━━━━━━━━━━━━━━━━━━━━━━━━━━━━━━━━━━━━━\u001b[0m \u001b[32m681.2/681.2 kB\u001b[0m \u001b[31m29.3 MB/s\u001b[0m eta \u001b[36m0:00:00\u001b[0m\n",
            "\u001b[?25h  Preparing metadata (setup.py) ... \u001b[?25l\u001b[?25hdone\n",
            "Requirement already satisfied: PyYAML in /usr/local/lib/python3.10/dist-packages (from pyngrok) (6.0)\n",
            "Building wheels for collected packages: pyngrok\n",
            "  Building wheel for pyngrok (setup.py) ... \u001b[?25l\u001b[?25hdone\n",
            "  Created wheel for pyngrok: filename=pyngrok-6.0.0-py3-none-any.whl size=19867 sha256=40e3447286adf80f2791bd87e3111111f753424eba81471e2f4ec7beeaed731a\n",
            "  Stored in directory: /root/.cache/pip/wheels/5c/42/78/0c3d438d7f5730451a25f7ac6cbf4391759d22a67576ed7c2c\n",
            "Successfully built pyngrok\n",
            "Installing collected packages: pyngrok\n",
            "Successfully installed pyngrok-6.0.0\n",
            "Collecting diffusers\n",
            "  Downloading diffusers-0.18.2-py3-none-any.whl (1.2 MB)\n",
            "\u001b[2K     \u001b[90m━━━━━━━━━━━━━━━━━━━━━━━━━━━━━━━━━━━━━━━━\u001b[0m \u001b[32m1.2/1.2 MB\u001b[0m \u001b[31m43.0 MB/s\u001b[0m eta \u001b[36m0:00:00\u001b[0m\n",
            "\u001b[?25hRequirement already satisfied: Pillow in /usr/local/lib/python3.10/dist-packages (from diffusers) (8.4.0)\n",
            "Requirement already satisfied: filelock in /usr/local/lib/python3.10/dist-packages (from diffusers) (3.12.2)\n",
            "Requirement already satisfied: huggingface-hub>=0.13.2 in /usr/local/lib/python3.10/dist-packages (from diffusers) (0.16.4)\n",
            "Collecting importlib-metadata (from diffusers)\n",
            "  Downloading importlib_metadata-6.8.0-py3-none-any.whl (22 kB)\n",
            "Requirement already satisfied: numpy in /usr/local/lib/python3.10/dist-packages (from diffusers) (1.22.4)\n",
            "Requirement already satisfied: regex!=2019.12.17 in /usr/local/lib/python3.10/dist-packages (from diffusers) (2022.10.31)\n",
            "Requirement already satisfied: requests in /usr/local/lib/python3.10/dist-packages (from diffusers) (2.27.1)\n",
            "Requirement already satisfied: fsspec in /usr/local/lib/python3.10/dist-packages (from huggingface-hub>=0.13.2->diffusers) (2023.6.0)\n",
            "Requirement already satisfied: tqdm>=4.42.1 in /usr/local/lib/python3.10/dist-packages (from huggingface-hub>=0.13.2->diffusers) (4.65.0)\n",
            "Requirement already satisfied: pyyaml>=5.1 in /usr/local/lib/python3.10/dist-packages (from huggingface-hub>=0.13.2->diffusers) (6.0)\n",
            "Requirement already satisfied: typing-extensions>=3.7.4.3 in /usr/local/lib/python3.10/dist-packages (from huggingface-hub>=0.13.2->diffusers) (4.7.1)\n",
            "Requirement already satisfied: packaging>=20.9 in /usr/local/lib/python3.10/dist-packages (from huggingface-hub>=0.13.2->diffusers) (23.1)\n",
            "Requirement already satisfied: zipp>=0.5 in /usr/local/lib/python3.10/dist-packages (from importlib-metadata->diffusers) (3.15.0)\n",
            "Requirement already satisfied: urllib3<1.27,>=1.21.1 in /usr/local/lib/python3.10/dist-packages (from requests->diffusers) (1.26.16)\n",
            "Requirement already satisfied: certifi>=2017.4.17 in /usr/local/lib/python3.10/dist-packages (from requests->diffusers) (2023.5.7)\n",
            "Requirement already satisfied: charset-normalizer~=2.0.0 in /usr/local/lib/python3.10/dist-packages (from requests->diffusers) (2.0.12)\n",
            "Requirement already satisfied: idna<4,>=2.5 in /usr/local/lib/python3.10/dist-packages (from requests->diffusers) (3.4)\n",
            "Installing collected packages: importlib-metadata, diffusers\n",
            "Successfully installed diffusers-0.18.2 importlib-metadata-6.8.0\n"
          ]
        }
      ]
    },
    {
      "cell_type": "markdown",
      "source": [
        "# *Auth Token*"
      ],
      "metadata": {
        "id": "ghS-vplu_ebM"
      }
    },
    {
      "cell_type": "code",
      "execution_count": null,
      "metadata": {
        "id": "PlMgbanT09SN"
      },
      "outputs": [],
      "source": [
        "AUTH_TOKEN = \"2GWJ6Kw7Sd9RLBXGdfghptrHOje_6qs7PCWeMReNWLYxLUoir\"\n",
        "port=8000"
      ]
    },
    {
      "cell_type": "markdown",
      "source": [
        "# *Frontend*"
      ],
      "metadata": {
        "id": "tiy2kYB89zsp"
      }
    },
    {
      "cell_type": "markdown",
      "source": [
        "## File Directory"
      ],
      "metadata": {
        "id": "Knnuo5HaDRxY"
      }
    },
    {
      "cell_type": "code",
      "execution_count": null,
      "metadata": {
        "id": "1Sk3F9z_GRgc"
      },
      "outputs": [],
      "source": [
        "import os\n",
        "if not os.path.isdir('/content/app'):\n",
        "  os.mkdir(\"/content/app\")\n",
        "os.chdir(\"/content/app\")"
      ]
    },
    {
      "cell_type": "markdown",
      "source": [
        "## CSS"
      ],
      "metadata": {
        "id": "A7PH8pYR_A4V"
      }
    },
    {
      "cell_type": "code",
      "execution_count": null,
      "metadata": {
        "id": "ijxUQ9BVGXqs"
      },
      "outputs": [],
      "source": [
        "if not os.path.isdir('/content/app/static'):\n",
        "  os.mkdir(\"./static\")\n",
        "os.chdir(\"./static\")\n",
        "\n",
        "css = \"\"\"\n",
        "    body {\n",
        "    font-family: Arial, Helvetica, sans-serif;\n",
        "}\n",
        "\n",
        "form {\n",
        "    /* Center the form on the page */\n",
        "    margin: 0 auto;\n",
        "    width: 400px;\n",
        "    /* Form outline */\n",
        "    padding: 1em;\n",
        "    display: flex;\n",
        "}\n",
        "\n",
        "img {\n",
        "    border-radius: 8px;\n",
        "    display: block;\n",
        "    margin-left: auto;\n",
        "    margin-right: auto;\n",
        "    margin-top: 40px;\n",
        "    filter: drop-shadow(5px 5px 10px #000);\n",
        "    opacity: 1;\n",
        "    hover: opacity: 0.6;\n",
        "    transition: opacity 1s ease 0s;\n",
        "\n",
        "}\n",
        "\n",
        "ul,\n",
        "li {\n",
        "    display: inline\n",
        "}\n",
        "\n",
        "ul {\n",
        "    list-style: none;\n",
        "    padding: 0;\n",
        "    margin: 0;\n",
        "    display: flex\n",
        "}\n",
        "\n",
        "form li+li {\n",
        "    margin-top: 1em;\n",
        "}\n",
        "\n",
        "label {\n",
        "    /* Uniform size & alignment */\n",
        "    display: inline-block;\n",
        "    width: 90px;\n",
        "    text-align: right;\n",
        "}\n",
        "\n",
        "input,\n",
        "textarea {\n",
        "    /* To make sure that all text fields have the same font settings\n",
        "         By default, textareas have a monospace font */\n",
        "    font: 1em sans-serif;\n",
        "\n",
        "    /* Uniform text field size */\n",
        "    width: 300px;\n",
        "    box-sizing: border-box;\n",
        "\n",
        "    /* Match form field borders */\n",
        "    border: 1px solid #999;\n",
        "}\n",
        "\n",
        "input:focus,\n",
        "textarea:focus {\n",
        "    /* Additional highlight for focused elements */\n",
        "    border-color: #000;\n",
        "}\n",
        "\n",
        "textarea {\n",
        "    /* Align multiline text fields with their labels */\n",
        "    vertical-align: top;\n",
        "\n",
        "    /* Provide space to type some text */\n",
        "    height: 5em;\n",
        "}\n",
        "\n",
        ".button {\n",
        "    /* Align buttons with the text fields */\n",
        "    padding-left: 90px;\n",
        "    /* same size as the label elements */\n",
        "}\n",
        "\n",
        "button {\n",
        "    /* This extra margin represent roughly the same space as the space\n",
        "         between the labels and their text fields */\n",
        "    margin-left: 0.5em;\n",
        "}\n",
        "\n",
        "label,\n",
        "input {\n",
        "    display: flex;\n",
        "    flex-direction: column;\n",
        "}\n",
        "\n",
        "input,\n",
        "label {\n",
        "    display: block;\n",
        "}\"\"\"\n",
        "\n",
        "with open(\"styles.css\", 'w') as f:\n",
        "  f.write(css)\n",
        "\n",
        "os.chdir(\"..\")"
      ]
    },
    {
      "cell_type": "code",
      "source": [
        "import base64\n",
        "s = b'iVBORw0KGgoAAAANSUhEUgAAABkAAAAZCAYAAADE6YVjAAAAAXNSR0IArs4c6QAAAARnQU1BAACxjwv8YQUAAAAJcEhZcwAADsMAAA7DAcdvqGQAAANrSURBVEhL3ZVLbE1BGMdn5lwuomk9bmlpUq82IqQSEQuiYUMIISJtUlytUo+FR4J2USJCSBOU0Gooi9K0Wo3HRiwECdqIsvCsPrS5dFNEvBbnjP83M+fqde9py9L/Zs73nTkz32+++eZm2H8jbqyn8oq+Ztq2U+w4zijbtgfBcsexme04PY5t364/M36fGeqpPiGByTtGJo+f9mJS+tzEuPgkBggDRFmAJflouxvKU0rMlJgSxnpIbgp1Pg3cvVUqm5tqGed6TWRdHyoy1lOekMCU7cOYlFlSOkwyh4U6mmXjvQv4ooJLehhQwvKN73LJ8ZInhEsxH1GmU1DOLTwE+9jT1f7zx5dS3fc7KzB3qRcPeUO42IxQBEDzSTTqLfH74/YgboceFdbUpRva0owfpZiQMemFaYxbC9CQgM80qxPgqkvHR/3AXu2nBHRtaIZaTqGaHEMxIVh9EFGH6SxUJui1zne/PvpJfZesAc/vxKDR1AdlLclrHWf8CEVBkqYeSEAGBb0ByOQTHuVmCLt8IvAZpoJwQKApjh/M9eT8qehMuMhH8AQTHO+w3KrrfnXogxmhhLCHXY8YfR2ACMi4GUcGI2C2yQLzfExQPbh1zgwJq7o0sRsDrukkNAg2fknu2yB5vRWZibTmo8AZGuKTlAXag9DzfQ/NiD8kqwigpUFSsgLTEVYEBMG3EIBOFRMA6VNVZj5Hqebk2FqY9ohTxtnsxcGWCfTmKgxJyTg1EYCF6tjqTMiGYK+bITGFoAeNB59IilZMD1dhCAKuw6qHK4CuA5qvouvZLnVs+1A9gjvGJyi11YvWtYw2XRqSOuscTpO11QTWjY6tsC6qUX2o9lQSLeKMu2Umm6Gcy/BxNpmINQCMVMeVaqFhNzufbGvX3/vVYRVbbVV42/ZSD0mkZlQKBA2qQvfKBLXBn21gqjudHMKEO242uixsxOLgmxxyhPAPycTqZ+rgBiR8j7lt3VNDB65KNxv10y9rVc+kOTVXcF+spAPOcG/QTSGZzG9rzIn6A/anFQVdrbgpU+l6dhxExc2JaBMFtmWe2R69TcJ6j2zq9LS/1lFt9H6ZzFYJbI3frYUBnW19lN3fsfWQrMY2fdO1IYKifEfR+TJA7qMuTQDsBOgYffkXXS1LocXNJReMl4h9gzFW9Qt/ieYwvJpjQQAAAABJRU5ErkJggg=='\n",
        "with open('/content/app/static/icon.png', 'wb') as f:\n",
        "  f.write(base64.decodebytes(s))"
      ],
      "metadata": {
        "id": "t66Eyn5l5djb"
      },
      "execution_count": null,
      "outputs": []
    },
    {
      "cell_type": "markdown",
      "source": [
        "## HTML"
      ],
      "metadata": {
        "id": "-DZd9ZhE-7t-"
      }
    },
    {
      "cell_type": "code",
      "execution_count": null,
      "metadata": {
        "id": "AnecDHVFG8-H"
      },
      "outputs": [],
      "source": [
        "html = \"\"\"\n",
        "<!DOCTYPE html>\n",
        "<html lang=\"en\">\n",
        "<head>\n",
        "    <meta charset=\"UTF-8\">\n",
        "    <meta http-equiv=\"X-UA-Compatible\" content=\"IE=edge\">\n",
        "    <meta name=\"viewport\" content=\"width=device-width, initial-scale=1.0\">\n",
        "    <link rel=\"stylesheet\" type=\"text/css\" href=\"{{ url_for('static',filename='styles.css') }}\" />\n",
        "    <link rel=\"icon\" type=\"image/x-icon\" href=\"{{ url_for('static',filename='icon.png') }}\" />\n",
        "    <title>Stable Diffusion App</title>\n",
        "</head>\n",
        "<body>\n",
        "  <h1>Stable Diffusion App</h1>\n",
        "    <p>Generate images with stable diffusion for free! Enter your prompt below and hit \"Create\" to generate an image (takes ~10 seconds per image).</p>\n",
        "    <p>Companion article: <a href=\"https://www.assemblyai.com/blog/build-a-free-stable-diffusion-app-with-a-gpu-backend/\">Build a free Stable Diffusion app with a GPU backend</a> on the <href=\"https://www.assemblyai.com/blog/\">AssemblyAI Blog</a>.</p>\n",
        "    <form action=\"\\submit-prompt\" method=\"post\" id=\"submission-form\">\n",
        "        <ul>\n",
        "            <li>\n",
        "              <label for=\"prompt\">Prompt:</label>\n",
        "              <input type=\"text\" id=\"prompt\" name=\"prompt-input\" />\n",
        "            </li>\n",
        "            <li class=\"button\">\n",
        "                <button type=\"submit\">Create</button>\n",
        "            </li>\n",
        "          </ul>\n",
        "    </form>\n",
        "    <img src=\"{{ generated_image|default(\"https://images.squarespace-cdn.com/content/v1/6213c340453c3f502425776e/0715034d-4044-4c55-9131-e4bfd6dd20ca/2_4x.png?format=512w\", true) }}\" class=\"mainImg\" alt=\"Generated Image\">\n",
        "</body>\n",
        "</html>\n",
        "\n",
        "\"\"\"\n",
        "\n",
        "with open(\"index.html\", 'w') as f:\n",
        "  f.write(html)\n"
      ]
    },
    {
      "cell_type": "markdown",
      "metadata": {
        "id": "rOLAQneRZv0c"
      },
      "source": [
        "# *Backend*"
      ]
    },
    {
      "cell_type": "code",
      "execution_count": null,
      "metadata": {
        "id": "LCx22jTCb9rn"
      },
      "outputs": [],
      "source": [
        "import os\n",
        "os.chdir(\"/content/app\")"
      ]
    },
    {
      "cell_type": "code",
      "execution_count": null,
      "metadata": {
        "id": "ueQfZ9f9nGah"
      },
      "outputs": [],
      "source": [
        "from flask import Flask, render_template, send_file, request\n",
        "from diffusers import StableDiffusionPipeline\n",
        "from pyngrok import ngrok\n",
        "from io import BytesIO\n",
        "import base64\n",
        "import torch\n",
        "\n",
        "# Load model\n",
        "pipe = StableDiffusionPipeline.from_pretrained(\"runwayml/stable-diffusion-v1-5\", revision=\"fp16\", torch_dtype=torch.float16)\n",
        "# pipe.to(\"cuda\")\n",
        "\n",
        "# ngrok Server\n",
        "ngrok.set_auth_token(AUTH_TOKEN)\n",
        "public_url=ngrok.connect(port)\n",
        "print(\"Public url for the web app: \",public_url)\n",
        "\n",
        "# Start flask app and set to ngrok\n",
        "app = Flask(__name__, template_folder='.') # period is because default templates folder is /templates\n",
        "@app.route('/')\n",
        "def initial():\n",
        "  return render_template('index.html')\n",
        "\n",
        "@app.route('/submit-prompt', methods=['POST'])\n",
        "def generate_image():\n",
        "  prompt = request.form['prompt-input']\n",
        "  print(f\"Generating an image of {prompt}\")\n",
        "\n",
        "  image = pipe(prompt).images[0]\n",
        "  print(\"Image generated! Converting image ...\")\n",
        "\n",
        "  buffered = BytesIO()\n",
        "  image.save(buffered, format=\"PNG\")\n",
        "  img_str = base64.b64encode(buffered.getvalue())\n",
        "  b = \"data:image/png;base64,\" + str(img_str)[2:-1]\n",
        "\n",
        "  print(\"Sending image ...\")\n",
        "  return render_template('index.html', generated_image=b)\n",
        "\n",
        "app.run(port=port)"
      ]
    },
    {
      "cell_type": "markdown",
      "source": [
        "# Prompt API"
      ],
      "metadata": {
        "id": "NzSsNJP79VdM"
      }
    },
    {
      "cell_type": "code",
      "source": [
        "from flask import Flask, render_template, send_file, request\n",
        "from pyngrok import ngrok\n",
        "\n",
        "ngrok.set_auth_token(AUTH_TOKEN)\n",
        "public_url=ngrok.connect(port)\n",
        "print(\"Public url for the web app: \",public_url)\n",
        "\n",
        "app = Flask(__name__)\n",
        "@app.route('/')\n",
        "def home():\n",
        "  return f\"Hi ngrok if this works, something amazing will be born\"\n",
        "app.run(port=port)"
      ],
      "metadata": {
        "colab": {
          "base_uri": "https://localhost:8080/"
        },
        "id": "aLWFgHCW17Pl",
        "outputId": "cdf6f79d-42c4-4c7a-c26f-0519b5e3435f"
      },
      "execution_count": null,
      "outputs": [
        {
          "output_type": "stream",
          "name": "stdout",
          "text": [
            "Public url for the web app:  http://a3b2-35-203-141-221.ngrok-free.app\n",
            " * Serving Flask app '__main__'\n",
            " * Debug mode: off\n"
          ]
        },
        {
          "output_type": "stream",
          "name": "stderr",
          "text": [
            "INFO:werkzeug:\u001b[31m\u001b[1mWARNING: This is a development server. Do not use it in a production deployment. Use a production WSGI server instead.\u001b[0m\n",
            " * Running on http://127.0.0.1:8000\n",
            "INFO:werkzeug:\u001b[33mPress CTRL+C to quit\u001b[0m\n"
          ]
        }
      ]
    },
    {
      "cell_type": "code",
      "source": [
        "@app.route('/submit-prompt', methods=['POST'])\n",
        "def generate():\n",
        "  #get the prompt input\n",
        "  prompt = request.form['prompt-input']\n",
        "  print(f\"Generating an image of {prompt}\")\n",
        "\n",
        "  # generate image\n",
        "  image = pipe(prompt).images[0]\n",
        "  print(\"Image generated! Converting image ...\")\n",
        "  buffered = BytesIO()\n",
        "  image.save(buffered, format=\"PNG\")\n",
        "  img_str = base64.b64encode(buffered.getvalue())\n",
        "  img_str = \"data:image/png;base64,\" + str(img_str)[2:-1]\n",
        "\n",
        "  #generate text\n",
        "  input_ids = tokenizer(prompt, return_tensors=\"pt\").input_ids.to(\"cuda\")\n",
        "  generated_output = model.generate(input_ids, do_sample=True, temperature=0.5, max_length=512, num_return_sequences=1)\n",
        "  generated_text = tokenizer.decode(generated_output[0], skip_special_tokens=True)\n",
        "\n",
        "  print(\"Sending image and text ...\")\n",
        "\n",
        "  return render_template('index.html', generated_image=img_str, generated_text=generated_text, prompt=prompt)"
      ],
      "metadata": {
        "id": "hy4pCzYw9Tpg"
      },
      "execution_count": null,
      "outputs": []
    }
  ]
}